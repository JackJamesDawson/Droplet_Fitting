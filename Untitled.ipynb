{
 "cells": [
  {
   "cell_type": "code",
   "execution_count": 8,
   "id": "ba820515-97e0-4f54-b9a5-2541bd7d0f88",
   "metadata": {},
   "outputs": [
    {
     "data": {
      "text/plain": [
       "['README.md',\n",
       " '.git',\n",
       " '.gitattributes',\n",
       " 'LICENSE',\n",
       " 'Untitled.ipynb',\n",
       " '.ipynb_checkpoints',\n",
       " '1mm_gauge.tif',\n",
       " '2-5mm_gauge.tif',\n",
       " '5mm_gauge.tif']"
      ]
     },
     "execution_count": 8,
     "metadata": {},
     "output_type": "execute_result"
    }
   ],
   "source": [
    "# ========== FIND PIXEL SIZE ==========\n",
    "# Import packages ...\n",
    "import skimage.io\n",
    "import os\n",
    "\n",
    "\n",
    "skimage.io.imrea"
   ]
  }
 ],
 "metadata": {
  "kernelspec": {
   "display_name": "Python 3 (ipykernel)",
   "language": "python",
   "name": "python3"
  },
  "language_info": {
   "codemirror_mode": {
    "name": "ipython",
    "version": 3
   },
   "file_extension": ".py",
   "mimetype": "text/x-python",
   "name": "python",
   "nbconvert_exporter": "python",
   "pygments_lexer": "ipython3",
   "version": "3.8.8"
  }
 },
 "nbformat": 4,
 "nbformat_minor": 5
}
